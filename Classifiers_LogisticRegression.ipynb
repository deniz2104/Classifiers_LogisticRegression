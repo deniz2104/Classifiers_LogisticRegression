{
  "cells": [
    {
      "cell_type": "markdown",
      "metadata": {
        "id": "view-in-github",
        "colab_type": "text"
      },
      "source": [
        "<a href=\"https://colab.research.google.com/github/deniz2104/Classifiers_LogisticRegression/blob/main/Classifiers_LogisticRegression.ipynb\" target=\"_parent\"><img src=\"https://colab.research.google.com/assets/colab-badge.svg\" alt=\"Open In Colab\"/></a>"
      ]
    },
    {
      "cell_type": "markdown",
      "metadata": {
        "id": "8DODyBmGok0Z"
      },
      "source": [
        "## Binary classification. Logistic Regression."
      ]
    },
    {
      "cell_type": "markdown",
      "metadata": {
        "id": "2wEhpBbTCWU1"
      },
      "source": [
        "**Logistic regression** is a statistical method for analyzing datasets in which there are one or more independent variables that determine an outcome. The outcome is usually a binary outcome (1/0, Yes/No, True/False). It's used to describe data and to explain the relationship between one dependent binary variable and one or more independent variables.\n",
        "\n",
        "While linear regression predicts a continuous outcome, logistic regression predicts the probability of an event occurrence. The hypothesis function for logistic regression is\n",
        "\n",
        "\\begin{equation}\n",
        "h_\\theta(x) = \\frac{1}{1 + e^{-\\theta^\\top x}} = \\sigma(\\theta^\\top x) \\tag{1}\n",
        "\\end{equation}\n",
        "\n",
        "where:\n",
        "- $ h_\\theta(x) $ is the predicted output\n",
        "- $ \\theta $ is the set of parameters\n",
        "- $ x $ is the input feature\n",
        "- The function $ \\frac{1}{1 + e^{-z}} $ is the Sigmoid function, which outputs values between 0 and 1.\n",
        "\n"
      ]
    },
    {
      "cell_type": "code",
      "execution_count": null,
      "metadata": {
        "colab": {
          "base_uri": "https://localhost:8080/",
          "height": 311
        },
        "id": "nZveZyR64DPd",
        "outputId": "059341bb-aaef-4fcb-d00c-7333c049777a"
      },
      "outputs": [
        {
          "output_type": "display_data",
          "data": {
            "text/plain": [
              "<Figure size 900x300 with 1 Axes>"
            ],
            "image/png": "[encoded data removed]"
          },
          "metadata": {}
        }
      ],
      "source": [
        "import numpy as np\n",
        "import matplotlib.pyplot as plt\n",
        "\n",
        "t = np.linspace(-10, 10, 100)\n",
        "sig = 1 / (1 + np.exp(-t))\n",
        "plt.figure(figsize=(9, 3))\n",
        "plt.plot([-10, 10], [0, 0], \"k-\")\n",
        "plt.plot([-10, 10], [0.5, 0.5], \"k:\")\n",
        "plt.plot([-10, 10], [1, 1], \"k:\")\n",
        "plt.plot([0, 0], [-1.1, 1.1], \"k-\")\n",
        "plt.plot(t, sig, \"b-\", linewidth=2, label=r\"$\\sigma(t) = \\frac{1}{1 + e^{-t}}$\")\n",
        "plt.xlabel(\"t\")\n",
        "plt.legend(loc=\"upper left\", fontsize=20)\n",
        "plt.axis([-10, 10, -0.1, 1.1])\n",
        "plt.show()"
      ]
    },
    {
      "cell_type": "markdown",
      "metadata": {
        "id": "sN3m5cbbbU8d"
      },
      "source": [
        "As mentioned the logistic regresion returns the probability of an event to occure. So we make the following interpretation:\n",
        "\n",
        "\\begin{equation}\n",
        "h_\\theta(X) = \\frac{1}{1 + e^{-\\theta^\\top X}} = P(y=1|X, \\theta)\n",
        "\\end{equation}\n",
        "\n",
        "Considering the fundamental theory of probabilities, i.e., the sum of the probabilities is one, we have:\n",
        "\n",
        "\\begin{equation}\n",
        "P(y=0|X, \\theta) = 1- P(y=0|X, \\theta).\n",
        "\\end{equation}\n",
        "\n",
        "Further, in order to compute the *Likelihood function*, we assume that the instances are indepedent and have the Bernoulli distribution. Thus, we obtain:\n",
        "$$\n",
        "\\begin{aligned}\n",
        "L(\\theta \\mid y, x) & =\\mathrm{P}(Y \\mid X, \\theta)=\\prod_{i=1}^m \\mathrm{P}\\left(y^{(i)} \\mid x^{(i)}, \\theta\\right) =\\prod_{i=1}^m h_\\theta\\left(x^{(i)}\\right)^{y^{(i)}}\\left(1-h_\\theta\\left(x^{(i)}\\right)\\right)^{\\left(1-y^{(i)}\\right)} .\n",
        "\\end{aligned}\n",
        "$$\n",
        "\n",
        "Further, we take the logarithm in the previous expression and maximize it:\n",
        "$$\n",
        "\\hat{\\theta} = \\text{argmax}_{\\theta} \\frac{1}{m}\\sum_{i=1}^m \\log  h_\\theta\\left(x^{(i)}\\right)^{y^{(i)}} + \\log \\left(1-h_\\theta\\left(x^{(i)}\\right)\\right)^{\\left(1-y^{(i)}\\right)}\n",
        "$$"
      ]
    },
    {
      "cell_type": "markdown",
      "metadata": {
        "id": "s6A69OIeDxEu"
      },
      "source": [
        "To train a logistic regression model, we need to find parameters $ \\theta $ such that the cost function is minimized\n",
        "\n",
        "\\begin{equation}\n",
        "J(\\theta) = -\\frac{1}{m} \\sum_{i=1}^m [y^{(i)} \\log(h_\\theta(x^{(i)})) + (1 - y^{(i)}) \\log(1 - h_\\theta(x^{(i)}))] \\tag{2}\n",
        "\\end{equation}\n",
        "\n",
        "where $ m $ is the number of training examples and $y$ is the label. One method to find the optimal parameters is the gradient method. Further, we provide the ingredients for implementing the GD method.\n",
        "\n",
        "The gradient of the cost function is:\n",
        "\\begin{equation}\n",
        "\\frac{\\partial J(\\theta)}{\\partial \\theta_j} = \\frac{1}{m} \\sum_{i=1}^m (h_\\theta(x^{(i)}) - y^{(i)}) x_j^{(i)} \\tag{3}\n",
        "\\end{equation}\n",
        "\n",
        "Logistic regression optimization using gradient descent revolves around minimizing the log-loss, a measure of the difference between predicted probabilities and actual labels. The key to this iterative optimization is computing the gradient of the cost with respect to the model's weights. The gradient, given by\n",
        "\n",
        "\\begin{equation}\n",
        "\\nabla J(\\theta) = \\frac{1}{m} X^T (\\sigma(X\\theta) - y)\n",
        "\\end{equation}\n",
        "\n",
        "where $ \\sigma $ is the sigmoid function, indicates the direction of steepest ascent in the cost function. To minimize the cost, weights are updated in the direction opposite to the gradient using the formula\n",
        "\n",
        "\\begin{equation}\n",
        "\\theta_{k + 1} = \\theta_{k} - \\alpha \\nabla J(\\theta_{k})\n",
        "\\end{equation}\n",
        "\n",
        "Here, $ \\alpha $ is the learning rate, determining the step size. The process is repeated until the changes in the cost function become negligible or a set number of iterations is reached. Adjusting the learning rate is crucial: a high value can cause divergence, while a low value may lead to slow convergence. There are also more reliable methods for choosing the learning rate, such as the **Lipschitz constant** (for constant value) or variable step."
      ]
    },
    {
      "cell_type": "markdown",
      "metadata": {
        "id": "9nZXh-tmsOAP"
      },
      "source": [
        "For the data base Iris,I use the logistic regression classification to separate the data. Split the data in 15% for testing and the rest for training using the function [train_test_split](https://scikit-learn.org/dev/modules/generated/sklearn.model_selection.train_test_split.html). Implementing Stochastic gradient descent for solving the optimization problem."
      ]
    },
    {
      "cell_type": "code",
      "execution_count": 1,
      "metadata": {
        "id": "qTZKTS4Awaen"
      },
      "outputs": [],
      "source": [
        "import numpy as np\n",
        "from sklearn.model_selection import train_test_split\n",
        "from sklearn import linear_model\n",
        "import matplotlib.pyplot as plt\n",
        "from sklearn import datasets\n",
        "from numpy import linalg as LA\n",
        "iris = datasets.load_iris()\n",
        "list(iris.keys())\n",
        "\n",
        "X = iris[\"data\"][:, 2:]  # petal width\n",
        "y = (iris[\"target\"] == 2).astype(np.int32)  # 1 if Iris virginica, else 0\n",
        "\n",
        "loss_history = []\n",
        "accuracy_history = []\n",
        "\n",
        "def sigmoid(z):\n",
        "    return 1 / (1 + np.exp(-z))\n",
        "\n",
        "def compute_loss(X, y, theta):\n",
        "    h = sigmoid(np.dot(X, theta))\n",
        "    return -np.mean(y * np.log(h+1e-15) + (1 - y) * np.log(1 - h+ 1e-15))\n",
        "\n",
        "def compute_accuracy(X, y, theta):\n",
        "    preds = (sigmoid(np.dot(X, theta)) >= 0.5).astype(int)\n",
        "    return np.mean(preds == y)\n",
        "\n",
        "X_train, X_test, y_train, y_test = train_test_split(X, y, test_size = 0.15)\n",
        "\n",
        "theta=np.zeros(X_train.shape[1])\n",
        "C=1000\n",
        "m=X_train.shape[0]\n",
        "\n",
        "max_iter=10000\n",
        "\n",
        "for i in range(max_iter):\n",
        "    idx=np.random.randint(m)\n",
        "    xi=X_train[idx]\n",
        "    yi=y_train[idx]\n",
        "    h=1/(1+np.exp(-np.dot(theta,xi)))\n",
        "\n",
        "    alpha=C/(C+i)\n",
        "\n",
        "    grad=(h-yi)*xi\n",
        "    next_theta=theta-alpha*grad\n",
        "\n",
        "    loss = compute_loss(X_train, y_train, theta)\n",
        "    acc = compute_accuracy(X_train, y_train, theta)\n",
        "    loss_history.append(loss)\n",
        "    accuracy_history.append(acc)\n",
        "\n",
        "    if(LA.norm(next_theta-theta)<0.00001):\n",
        "        break\n",
        "\n",
        "    theta=next_theta\n",
        "    ##Decomment for plotting (too many photos)\n",
        "\n",
        "    ##fig, ax = plt.subplots(2, 1, figsize=(10, 8))\n",
        "    ##ax[0].plot(range(len(loss_history)), loss_history, label=\"Loss\")\n",
        "    ##ax[0].set_title(\"Loss over Iterations\")\n",
        "    ##ax[0].set_xlabel(\"Iterations\")\n",
        "    ##ax[0].set_ylabel(\"Loss\")\n",
        "    ##ax[0].legend()\n",
        "\n",
        "    ##ax[1].plot(range(len(accuracy_history)), accuracy_history, label=\"Accuracy\", color=\"red\")\n",
        "    ##ax[1].set_title(\"Accuracy over Iterations\")\n",
        "    ##ax[1].set_xlabel(\"Iterations\")\n",
        "    ##ax[1].set_ylabel(\"Accuracy\")\n",
        "    ##ax[1].legend()\n",
        "\n",
        "    ##plt.tight_layout()\n",
        "    ##plt.show()\n"
      ]
    },
    {
      "cell_type": "markdown",
      "metadata": {
        "id": "NcMfI3uvrYMY"
      },
      "source": [
        "## Support Vector Machine\n",
        "\n",
        "Support Vector Machine (SVM) is a robust supervised machine learning algorithm primarily used for binary classification tasks, where the goal is to classify data points into one of two classes, typically labeled as +1 and -1. SVM aims to find a hyperplane that best separates the data into these two classes while maximizing the margin between them. We will concentrate on two main variants of the SVM algorithm: hard-margin and soft-margin.\n",
        "\n",
        "### Hard-margin SVM\n",
        "\n",
        "The Hard-margin SVM aims to find a hyperplane that perfectly separates the training data into two classes with no margin violations. This method is ideal for datasets in which the data is linearly separable.\n",
        "\n",
        "Suppose we have training examples $(x_i, y_i)$, where $x_i$ is a feature vector and $y_i \\in \\{-1, 1\\}$ is the class label. We want to find a hyperplane defined by $w \\cdot x + b = 0$, where $w$ is the normal to the hyperplane and $b$ is a bias term.\n",
        "\n",
        "The constraints for the hard-margin SVM are:\n",
        " - for each data point classified as 1 ($y_i = 1$): $w \\cdot x_i + b \\geq 1$.\n",
        " - for each data point classified as -1 ($y_i = -1$): $w \\cdot x_i + b \\leq -1$.\n",
        "\n",
        "These constraints ensure that all points are correctly classified with a margin. The optimization problem then becomes minimizing $\\|w\\|^2$ (equivalent to maximizing the margin), subject to the above constraints.\n",
        "\n",
        "The main problem can be formulated as follows\n",
        "- Minimize:\n",
        "\\begin{equation}\n",
        "\\frac{1}{2} ||w||^2\n",
        "\\end{equation}\n",
        "\n",
        "- Subject to:\n",
        "\\begin{equation}\n",
        "y_i(w \\cdot x_i + b) \\geq 1, \\quad \\forall i\n",
        "\\end{equation}\n",
        "\n",
        "Here, $w$ is the weight vector, $b$ is the bias term, $x_i$ are the training data points, and $y_i$ are their corresponding labels (+1 or -1).\n",
        "\n",
        "### Soft-margin SVM\n",
        "\n",
        "In the Soft-margin SVM, we allow some margin violations to account for noisy or overlapping data. The objective is to find a hyperplane separating the data with as few violations as possible while maximizing the margin and penalizing violations.\n",
        "\n",
        "Soft-margin SVM is used when the data is not linearly separable. We introduce a slack variable $\\xi_i$ for each data point to allow misclassification. The mathematical formulation is:\n",
        "\n",
        " - Minimize:\n",
        "\\begin{equation}\n",
        "\\frac{1}{2} ||w||^2 + C \\sum_{i=1}^{N} \\xi_i\n",
        "\\end{equation}\n",
        "\n",
        " - Subject to:\n",
        "\\begin{equation}\n",
        "y_i(w \\cdot x_i + b) \\geq 1 - \\xi_i, \\quad \\xi_i \\geq 0, \\quad \\forall i\n",
        "\\end{equation}\n",
        "\n",
        "Where $C$ is a hyperparameter that controls the trade-off between maximizing the margin and minimizing violations, and $\\xi_i$ are slack variables representing each data point's degree of violation.\n",
        "\n",
        "\n",
        "To solve the primal problem is more computational expensive then the dual formulation (please see the course)\n",
        "\n",
        "----\n",
        "\n",
        "In conclusion, SVM is a powerful algorithm for linear classification, and its soft-margin variant is advantageous when dealing with real-world data that may need to be more perfectly separable.\n",
        "\n",
        "For problems that involve nonlinear data (which are not linearly separable), the SVM problem can be improved using the kernel trick you learned in the previous laboratory (**Kernel Methods**)."
      ]
    },
    {
      "cell_type": "markdown",
      "metadata": {
        "id": "qdaZ9g1Sw3MP"
      },
      "source": [
        "\n",
        "For the data base Iris, I m using the SVM classification to separate the data. First split the data in 15% for testing and the rest for training using the function [train_test_split](https://scikit-learn.org/dev/modules/generated/sklearn.model_selection.train_test_split.html).I make the suitable adjustments for the label variable.\n",
        "Using the [SVC](https://scikit-learn.org/dev/modules/generated/sklearn.svm.SVC.html) class to implement the SVM classifier.Lastly,I analyse the performance of the classifier for differents $C$.\n",
        "\n"
      ]
    },
    {
      "cell_type": "code",
      "execution_count": null,
      "metadata": {
        "id": "mN0v0b_Na4ZX",
        "colab": {
          "base_uri": "https://localhost:8080/"
        },
        "outputId": "0a66e876-7fe4-4fe3-a565-98be7fb195ca"
      },
      "outputs": [
        {
          "output_type": "stream",
          "name": "stdout",
          "text": [
            "Accuracy of models:\n",
            "Linear SVM (C=0.01): 0.889763779527559\n",
            "Linear SVM (C=0.5): 0.9921259842519685\n",
            "Linear SVM (C=10): 0.984251968503937\n",
            "Linear SVM (C=0.01): 0.9130434782608695\n",
            "Linear SVM (C=0.5): 0.8695652173913043\n",
            "Linear SVM (C=10): 0.9130434782608695\n",
            "RBF SVM (C=0.01): 0.30434782608695654\n",
            "RBF SVM (C=0.5): 0.8695652173913043\n",
            "RBF SVM (C=0.10): 0.8695652173913043\n",
            "Poly SVM (C=0.01): 0.6521739130434783\n",
            "Poly SVM (C=0.5): 0.9565217391304348\n",
            "Poly SVM (C=10): 0.8695652173913043\n"
          ]
        }
      ],
      "source": [
        "from sklearn.svm import SVC\n",
        "from sklearn.preprocessing import StandardScaler\n",
        "from sklearn.model_selection import train_test_split\n",
        "from sklearn.metrics import accuracy_score\n",
        "#Incarcarea setului de date\n",
        "iris = datasets.load_iris()\n",
        "X = iris[\"data\"]\n",
        "y = iris[\"target\"]\n",
        "\n",
        "X_train, X_test, y_train, y_test = train_test_split(X, y, test_size=0.15)\n",
        "\n",
        "scaler = StandardScaler()\n",
        "scaler.fit(X_train)\n",
        "X_train_scaled = scaler.fit_transform(X_train)\n",
        "X_test_scaled = scaler.transform(X_test)\n",
        "\n",
        "\n",
        "##Analizam sa vedem daca avem parte de fenomenul de overfitting sau underfitting\n",
        "svm_linear_model_1 = SVC(C=0.01, kernel='linear')\n",
        "svm_linear_model_1.fit(X_train_scaled, y_train)\n",
        "y_pred_linear_svm_1 = svm_linear_model_1.predict(X_train_scaled)\n",
        "accuracy_linear_svm_1 = accuracy_score(y_train, y_pred_linear_svm_1)\n",
        "\n",
        "svm_linear_model_2 = SVC(C=0.5, kernel='linear')\n",
        "svm_linear_model_2.fit(X_train_scaled, y_train)\n",
        "y_pred_linear_svm_2 = svm_linear_model_2.predict(X_train_scaled)\n",
        "accuracy_linear_svm_2 = accuracy_score(y_train, y_pred_linear_svm_2)\n",
        "\n",
        "svm_linear_model_3 = SVC(C=10, kernel='linear')\n",
        "svm_linear_model_3.fit(X_train_scaled, y_train)\n",
        "y_pred_linear_svm_3 = svm_linear_model_3.predict(X_train_scaled)\n",
        "accuracy_linear_svm_3 = accuracy_score(y_train, y_pred_linear_svm_3)\n",
        "\n",
        "#Dupa ce am vazut daca datele au potential de overfitting analizam indicii de performanta pentru fiecare parametrizare\n",
        "\n",
        "svm_linear_model_10 = SVC(C=0.01, kernel='linear')\n",
        "svm_linear_model_10.fit(X_train_scaled, y_train)\n",
        "y_pred_linear_svm_10 = svm_linear_model_10.predict(X_test_scaled)\n",
        "accuracy_linear_svm_10 = accuracy_score(y_test, y_pred_linear_svm_10)\n",
        "\n",
        "svm_linear_model_20 = SVC(C=0.5, kernel='linear')\n",
        "svm_linear_model_20.fit(X_train_scaled, y_train)\n",
        "y_pred_linear_svm_20 = svm_linear_model_20.predict(X_test_scaled)\n",
        "accuracy_linear_svm_20 = accuracy_score(y_test, y_pred_linear_svm_20)\n",
        "\n",
        "svm_linear_model_30 = SVC(C=10, kernel='linear')\n",
        "svm_linear_model_30.fit(X_train_scaled, y_train)\n",
        "y_pred_linear_svm_30 = svm_linear_model_30.predict(X_test_scaled)\n",
        "accuracy_linear_svm_30 = accuracy_score(y_test, y_pred_linear_svm_30)\n",
        "\n",
        "svm_rbf_model_1 = SVC(C=0.01, kernel='rbf')\n",
        "svm_rbf_model_1.fit(X_train_scaled, y_train)\n",
        "y_pred_rbf_svm_1 = svm_rbf_model_1.predict(X_test_scaled)\n",
        "accuracy_rbf_svm_1 = accuracy_score(y_test, y_pred_rbf_svm_1)\n",
        "\n",
        "svm_rbf_model_2 = SVC(C=0.5, kernel='rbf')\n",
        "svm_rbf_model_2.fit(X_train_scaled, y_train)\n",
        "y_pred_rbf_svm_2 = svm_rbf_model_2.predict(X_test_scaled)\n",
        "accuracy_rbf_svm_2 = accuracy_score(y_test, y_pred_rbf_svm_2)\n",
        "\n",
        "svm_rbf_model_3 = SVC(C=10, kernel='rbf')\n",
        "svm_rbf_model_3.fit(X_train_scaled, y_train)\n",
        "y_pred_rbf_svm_3 = svm_rbf_model_3.predict(X_test_scaled)\n",
        "accuracy_rbf_svm_3 = accuracy_score(y_test, y_pred_rbf_svm_3)\n",
        "\n",
        "svm_poly_model_1 = SVC(C=0.01, kernel='poly', degree=3)\n",
        "svm_poly_model_1.fit(X_train_scaled, y_train)\n",
        "y_pred_poly_svm_1 = svm_poly_model_1.predict(X_test_scaled)\n",
        "accuracy_poly_svm_1 = accuracy_score(y_test, y_pred_poly_svm_1)\n",
        "\n",
        "svm_poly_model_2 = SVC(C=0.5, kernel='poly', degree=3)\n",
        "svm_poly_model_2.fit(X_train_scaled, y_train)\n",
        "y_pred_poly_svm_2 = svm_poly_model_2.predict(X_test_scaled)\n",
        "accuracy_poly_svm_2 = accuracy_score(y_test, y_pred_poly_svm_2)\n",
        "\n",
        "svm_poly_model_3 = SVC(C=10, kernel='poly', degree=3)\n",
        "svm_poly_model_3.fit(X_train_scaled, y_train)\n",
        "y_pred_poly_svm_3 = svm_poly_model_3.predict(X_test_scaled)\n",
        "accuracy_poly_svm_3 = accuracy_score(y_test, y_pred_poly_svm_3)\n",
        "\n",
        "\n",
        "# Results\n",
        "print(\"Accuracy of models:\")\n",
        "print(f\"Linear SVM (C=0.01): {accuracy_linear_svm_1}\")\n",
        "print(f\"Linear SVM (C=0.5): {accuracy_linear_svm_2}\")\n",
        "print(f\"Linear SVM (C=10): {accuracy_linear_svm_3}\")\n",
        "print(f\"Linear SVM (C=0.01): {accuracy_linear_svm_10}\")\n",
        "print(f\"Linear SVM (C=0.5): {accuracy_linear_svm_20}\")\n",
        "print(f\"Linear SVM (C=10): {accuracy_linear_svm_30}\")\n",
        "print(f\"RBF SVM (C=0.01): {accuracy_rbf_svm_1}\")\n",
        "print(f\"RBF SVM (C=0.5): {accuracy_rbf_svm_2}\")\n",
        "print(f\"RBF SVM (C=0.10): {accuracy_rbf_svm_3}\")\n",
        "print(f\"Poly SVM (C=0.01): {accuracy_poly_svm_1}\")\n",
        "print(f\"Poly SVM (C=0.5): {accuracy_poly_svm_2}\")\n",
        "print(f\"Poly SVM (C=10): {accuracy_poly_svm_3}\")\n"
      ]
    },
    {
      "cell_type": "markdown",
      "source": [
        "#Extra\n",
        "##Detecting how many survivors are in the case of the titanic based on sex,class and age\n",
        "## Dataset link:https://www.kaggle.com/datasets/pavlofesenko/titanic-extended/"
      ],
      "metadata": {
        "id": "G8xVee-kja4a"
      }
    },
    {
      "cell_type": "code",
      "source": [
        "import numpy as np\n",
        "import pandas as pd\n",
        "from sklearn.model_selection import train_test_split\n",
        "from sklearn import linear_model\n",
        "from sklearn.svm import SVC\n",
        "from sklearn.metrics import accuracy_score, classification_report\n",
        "from sklearn.preprocessing import StandardScaler\n",
        "from sklearn import preprocessing\n",
        "\n",
        "df = pd.read_csv(\"/content/train.csv\",header=0) #citesc valorile din fisier\n",
        "\n",
        "X = np.zeros((len(df), 3))\n",
        "y = df[\"Survived\"].values #populez vectorul cu labels, pentru supraviețuitor 1 pentru decedat 0\n",
        "\n",
        "X[:, 0] = df[\"Age_wiki\"].values # populez prima coloană din matricea X cu vârsta persoanei\n",
        "X[:, 1] = df[\"Pclass\"].values # populez a doua coloană din matricea X cu clasa persoanei\n",
        "X[:, 2] = (df[\"Sex\"] == 'female').astype(int) #populez a treia coloană din matricea X cu sexul persoanei, pentru femeie 1 pentru bărbat 0\n",
        "\n",
        "X_train, X_test, y_train, y_test = train_test_split(X, y, test_size = 0.15) #împart datele în partea de antrenare si de test\n",
        "\n",
        "#scalez datele pentru a fi folosite la SVM\n",
        "scaler = StandardScaler()\n",
        "X_train_scaled = scaler.fit_transform(X_train)\n",
        "X_test_scaled = scaler.transform(X_test)\n",
        "\n",
        "classifier = linear_model.LogisticRegression()\n",
        "\n",
        "classifier.fit(X_train_scaled, y_train)\n",
        "y_pred = classifier.predict(X_test_scaled)\n",
        "\n",
        "print(\"Predicted labels:\", y_pred) #afișez labelurile prezise de clasificator\n",
        "print(\"Actual labels   :\", y_test) #afișez labelurile care au fost date ca parametrii pentru partea de test\n",
        "print(\"\\nClassification Report:\\n\", classification_report(y_test, y_pred))\n",
        "\n",
        "svm_linear_model = SVC(C=1.5, kernel='linear')\n",
        "svm_linear_model.fit(X_train, y_train)\n",
        "y_pred_linear_svm = svm_linear_model.predict(X_test)\n",
        "accuracy_linear_svm = accuracy_score(y_test, y_pred_linear_svm)\n",
        "\n",
        "print(\"Linear SVM Accuracy:\", accuracy_linear_svm) #afișez acuratețea SVM\n",
        "print(\"Linear Regression Accuracy:\", accuracy_score(y_test, y_pred)) #afișez acuratețea clasificatorului\n",
        "\n",
        "df[\"Survived\"].plot(kind='hist', title=\"Supraviețuitori\", color = \"Green\")\n"
      ],
      "metadata": {
        "colab": {
          "base_uri": "https://localhost:8080/",
          "height": 851
        },
        "id": "0FT2aVLPjUu4",
        "outputId": "6e69ddfc-2f6e-4bca-bc2e-0766f2b111d3"
      },
      "execution_count": null,
      "outputs": [
        {
          "output_type": "stream",
          "name": "stdout",
          "text": [
            "Predicted labels: [0 1 1 1 1 0 0 0 0 1 1 1 0 0 1 0 0 0 1 0 0 1 1 0 0 1 1 0 1 0 0 1 0 0 0 0 1\n",
            " 0 0 0 1 1 1 1 0 1 0 0 0 1 1 1 1 0 1 1 0 1 0 0 1 0 0 0 0 1 1 0 0 0 0 1 0 0\n",
            " 1 0 0 1 0 0 0 0 0 0 0 1 0 0 0 1 1 0 1 0 0 1 0 0 1 0 1 0 0 1 1 1 0 0 0 0 0\n",
            " 1 1 1 1 0 1 0 0 1 1 0 1 0 0 1 1 1 1 0 0 0 0 0]\n",
            "Actual labels   : [0 0 1 1 0 0 0 0 0 0 0 1 0 1 0 0 0 0 1 0 0 0 1 0 1 0 1 0 0 0 0 1 0 1 0 0 0\n",
            " 0 1 0 1 1 1 0 0 0 0 0 0 1 0 0 1 0 1 1 0 1 1 0 1 0 0 0 1 1 0 0 0 0 0 1 0 1\n",
            " 0 0 1 1 0 0 0 0 0 1 0 1 0 1 0 1 1 0 1 0 0 1 0 0 1 1 1 0 1 1 0 0 0 0 0 1 0\n",
            " 0 1 1 1 0 1 0 1 1 1 0 1 0 0 1 1 1 0 1 1 0 0 0]\n",
            "\n",
            "Classification Report:\n",
            "               precision    recall  f1-score   support\n",
            "\n",
            "           0       0.79      0.77      0.78        81\n",
            "           1       0.66      0.70      0.68        53\n",
            "\n",
            "    accuracy                           0.74       134\n",
            "   macro avg       0.73      0.73      0.73       134\n",
            "weighted avg       0.74      0.74      0.74       134\n",
            "\n",
            "Linear SVM Accuracy: 0.753731343283582\n",
            "Linear Regression Accuracy: 0.7388059701492538\n"
          ]
        },
        {
          "output_type": "execute_result",
          "data": {
            "text/plain": [
              "<Axes: title={'center': 'Supraviețuitori'}, ylabel='Frequency'>"
            ]
          },
          "metadata": {},
          "execution_count": 7
        },
        {
          "output_type": "display_data",
          "data": {
            "text/plain": [
              "<Figure size 640x480 with 1 Axes>"
            ],
            "image/png": "[encoded data removed]"
          },
          "metadata": {}
        }
      ]
    },
    {
      "cell_type": "markdown",
      "source": [
        "#Conclusions\n",
        "\n",
        "##SGD conclusions on the iris dataset:The model is not so precise,82%,the loss function stops at 64% for 10000 iterations.\n",
        "## Reason for low accuracy compared to SVM:\n",
        "###The learning rate might be too high, causing oscillations, or too low, leading to slow convergence.\n",
        "\n",
        "##SVM conclusions on the iris dataset:\n",
        "###We can see for each example of method of SVC that the accuracy is best for all of them so we can conclude that datas are well separable.Checking also for overfitting and underfitting and the results are negative."
      ],
      "metadata": {
        "id": "RwPw4RAKku12"
      }
    }
  ],
  "metadata": {
    "colab": {
      "provenance": [],
      "include_colab_link": true
    },
    "kernelspec": {
      "display_name": "Python 3",
      "name": "python3"
    },
    "language_info": {
      "codemirror_mode": {
        "name": "ipython",
        "version": 3
      },
      "file_extension": ".py",
      "mimetype": "text/x-python",
      "name": "python",
      "nbconvert_exporter": "python",
      "pygments_lexer": "ipython3",
      "version": "3.12.5"
    }
  },
  "nbformat": 4,
  "nbformat_minor": 0
}